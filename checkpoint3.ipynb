{
 "cells": [
  {
   "cell_type": "markdown",
   "id": "c75dedfc",
   "metadata": {},
   "source": [
    "# Question1"
   ]
  },
  {
   "cell_type": "markdown",
   "id": "3bee0c68",
   "metadata": {},
   "source": [
    "Write a Python program that multiplies all the items in a list.\n",
    "\n",
    "Sample list= [2, 3, 6]"
   ]
  },
  {
   "cell_type": "code",
   "execution_count": 18,
   "id": "978c6670",
   "metadata": {},
   "outputs": [
    {
     "name": "stdout",
     "output_type": "stream",
     "text": [
      "36\n"
     ]
    }
   ],
   "source": [
    "#Multiply all the items in a list \n",
    "\n",
    "def multiplyList(myList):  \n",
    "    a = 1\n",
    "    for x in myList: \n",
    "         a = a * x  \n",
    "    return a   \n",
    "myList = [2, 3, 6] \n",
    "print(multiplyList(myList))"
   ]
  },
  {
   "cell_type": "markdown",
   "id": "12be431f",
   "metadata": {},
   "source": [
    "#  Question2"
   ]
  },
  {
   "cell_type": "raw",
   "id": "1aa4892a",
   "metadata": {},
   "source": [
    "# Écrivez un programme Python pour obtenir une liste, triée par ordre croissant par le dernier élément de chaque tuple, à partir d'une liste donnée de tuples non vides.\n",
    "\n",
    "Liste d'échantillons : [(2, 5), (1, 2), (4, 4), (2, 3), (2, 1)]\n",
    "\n",
    "Résultat attendu : [(2, 1), (1, 2), (2, 3), (4, 4), (2, 5)]\n",
    "\n",
    "Astuce : Vous pouvez utiliser la fonction de tri."
   ]
  },
  {
   "cell_type": "code",
   "execution_count": 19,
   "id": "88a4d3fa",
   "metadata": {},
   "outputs": [
    {
     "name": "stdout",
     "output_type": "stream",
     "text": [
      "[(2, 1), (1, 2), (2, 3), (4, 4), (2, 5)]\n"
     ]
    }
   ],
   "source": [
    "liste_echantillons = [(2, 5), (1, 2), (4, 4), (2, 3), (2, 1)]\n",
    "liste_echantillons.sort(key=lambda x: x[1])\n",
    "print(liste_echantillons)"
   ]
  },
  {
   "cell_type": "markdown",
   "id": "4e98e8d2",
   "metadata": {},
   "source": [
    "# Question3"
   ]
  },
  {
   "cell_type": "markdown",
   "id": "d3741df8",
   "metadata": {},
   "source": [
    "Écrivez un programme Python qui combine deux dictionnaires en ajoutant des valeurs pour les clés communes.\n",
    "\n",
    "d1 = {'a' : 100, 'b' : 200, 'c' : 300}\n",
    "\n",
    "d2 = {'a' : 300, 'b' : 200, 'd' : 400}\n",
    "\n",
    "Résultat attendu : {'a' : 400, 'b' : 400, 'd' : 400, 'c' : 300}"
   ]
  },
  {
   "cell_type": "code",
   "execution_count": 25,
   "id": "e88154c1",
   "metadata": {},
   "outputs": [
    {
     "name": "stdout",
     "output_type": "stream",
     "text": [
      "{'a': 400, 'b': 400, 'c': 300, 'd': 400}\n"
     ]
    }
   ],
   "source": [
    "d1 = {'a' : 100, 'b' : 200, 'c' : 300}\n",
    "d2 = {'a' : 300, 'b' : 200, 'd' : 400}\n",
    "\n",
    "d3 = {}\n",
    "\n",
    "for key in d1.keys():\n",
    "  if key in d2.keys():\n",
    "    d3[key] = d1[key] + d2[key]\n",
    "  else:\n",
    "    d3[key] = d1[key]\n",
    "\n",
    "for key in d2.keys():\n",
    "  if key not in d1.keys():\n",
    "    d3[key] = d2[key]\n",
    "\n",
    "print(d3)"
   ]
  },
  {
   "cell_type": "markdown",
   "id": "d18be411",
   "metadata": {},
   "source": [
    "# Question4"
   ]
  },
  {
   "cell_type": "markdown",
   "id": "cc04aad7",
   "metadata": {},
   "source": [
    "With a given integral number n, write a program to generate a dictionary that contains (i, i*i) so that is an integral number between 1 and n (both included). Then the program should print the dictionary. Suppose the following input is supplied to the program: 8. Then, the output should be: {1: 1, 2: 4, 3: 9, 4: 16, 5: 25, 6: 36, 7: 49, 8: 64}"
   ]
  },
  {
   "cell_type": "code",
   "execution_count": 27,
   "id": "6b4b7f48",
   "metadata": {},
   "outputs": [
    {
     "name": "stdout",
     "output_type": "stream",
     "text": [
      "{1: 1, 2: 4, 3: 9, 4: 16, 5: 25, 6: 36, 7: 49, 8: 64}\n"
     ]
    }
   ],
   "source": [
    "n = 8\n",
    "d = dict()\n",
    "for i in range(1,n+1):\n",
    "  d[i]=i*i\n",
    "\n",
    "print(d)"
   ]
  },
  {
   "cell_type": "markdown",
   "id": "f2cee828",
   "metadata": {},
   "source": [
    "# Question5"
   ]
  },
  {
   "cell_type": "markdown",
   "id": "74d2638b",
   "metadata": {},
   "source": [
    "Write a program to sort a tuple by its float element.\n",
    "\n",
    "For example: list= [('item1', '12.20'), ('item2', '15.10'), ('item3', '24.5')]\n",
    "\n",
    "Expected result: [('item3', '24.5'), ('item2', '15.10'), ('item1', '12.20')]"
   ]
  },
  {
   "cell_type": "code",
   "execution_count": 29,
   "id": "86da55e8",
   "metadata": {},
   "outputs": [
    {
     "name": "stdout",
     "output_type": "stream",
     "text": [
      "[('item3', '24.5'), ('item2', '15.10'), ('item1', '12.20')]\n"
     ]
    }
   ],
   "source": [
    "list = [('item1', '12.20'), ('item2', '15.10'), ('item3', '24.5')]\n",
    "sorted_list = sorted(list, key=lambda x: float(x[1]), reverse=True)\n",
    "print(sorted_list)"
   ]
  },
  {
   "cell_type": "markdown",
   "id": "00d3e593",
   "metadata": {},
   "source": [
    "# Question6"
   ]
  },
  {
   "cell_type": "markdown",
   "id": "77619cf0",
   "metadata": {},
   "source": [
    "Write a Python program to create a set.\n",
    "\n",
    "Examples : {0, 1, 2, 3, 4}\n",
    "\n",
    "Write a Python program to iteration over sets.\n",
    "\n",
    "Write a Python program to add members in a set and to remove items from a given set."
   ]
  },
  {
   "cell_type": "code",
   "execution_count": 31,
   "id": "5ae4c26c",
   "metadata": {},
   "outputs": [
    {
     "name": "stdout",
     "output_type": "stream",
     "text": [
      "0\n",
      "1\n",
      "2\n",
      "3\n",
      "4\n",
      "\n",
      "Set after adding and removing elements: \n",
      "0\n",
      "1\n",
      "2\n",
      "3\n",
      "5\n"
     ]
    }
   ],
   "source": [
    "s = {0, 1, 2, 3, 4} \n",
    "for i in s: \n",
    "    print(i) \n",
    "s.add(5) \n",
    "s.remove(4) \n",
    "  \n",
    "print(\"\\nSet after adding and removing elements: \") \n",
    "for i in s: \n",
    "    print(i)"
   ]
  }
 ],
 "metadata": {
  "kernelspec": {
   "display_name": "Python 3 (ipykernel)",
   "language": "python",
   "name": "python3"
  },
  "language_info": {
   "codemirror_mode": {
    "name": "ipython",
    "version": 3
   },
   "file_extension": ".py",
   "mimetype": "text/x-python",
   "name": "python",
   "nbconvert_exporter": "python",
   "pygments_lexer": "ipython3",
   "version": "3.9.13"
  }
 },
 "nbformat": 4,
 "nbformat_minor": 5
}
